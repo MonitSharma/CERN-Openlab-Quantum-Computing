{
 "cells": [
  {
   "cell_type": "code",
   "execution_count": 1,
   "id": "553b9f65",
   "metadata": {},
   "outputs": [
    {
     "data": {
      "image/png": "[encoded data removed]",
      "text/plain": [
       "<Figure size 327.252x204.68 with 1 Axes>"
      ]
     },
     "execution_count": 1,
     "metadata": {},
     "output_type": "execute_result"
    }
   ],
   "source": [
    "%matplotlib inline\n",
    "\n",
    "from qiskit import *\n",
    "from qiskit.visualization import *\n",
    "from qiskit.tools.monitor import *\n",
    "\n",
    "circ_bell = QuantumCircuit(2,2)        # 2 qubits and 2 classical channel\n",
    "\n",
    "circ_bell.h(0)                         # apply the hadamard gate on the first qubit\n",
    "circ_bell.cx(0,1)                      # apply a CNOT gate with control on first qubit and aim on second\n",
    "circ_bell.measure(range(2),range(2))   # do the measurement\n",
    "\n",
    "circ_bell.draw(output='mpl')"
   ]
  },
  {
   "cell_type": "code",
   "execution_count": 2,
   "id": "71119a2e",
   "metadata": {},
   "outputs": [
    {
     "name": "stdout",
     "output_type": "stream",
     "text": [
      "{'11': 496, '00': 504}\n"
     ]
    }
   ],
   "source": [
    "# executing the circuit a 1000 times\n",
    "\n",
    "backend = Aer.get_backend('qasm_simulator')\n",
    "job = execute(circ_bell, backend, shots = 1000)\n",
    "\n",
    "counts = job.result().get_counts()\n",
    "\n",
    "\n",
    "print(counts)"
   ]
  },
  {
   "cell_type": "code",
   "execution_count": 5,
   "id": "27c7577d",
   "metadata": {},
   "outputs": [
    {
     "name": "stdout",
     "output_type": "stream",
     "text": [
      "Amplitude of 00 = (0.7071067811865476+0j)\n",
      "Amplitude of 01 = 0j\n",
      "Amplitude of 10 = 0j\n",
      "Amplitude of 11 = (0.7071067811865476+0j)\n",
      "\n",
      "Probability of 00 = (0.5000000000000001+0j)\n",
      "Probability of 01 = 0j\n",
      "Probability of 10 = 0j\n",
      "Probability of 11 = (0.5000000000000001+0j)\n"
     ]
    }
   ],
   "source": [
    "circ_bell2 = QuantumCircuit(2)\n",
    "circ_bell2.h(0)\n",
    "circ_bell2.cx(0,1)\n",
    "\n",
    "\n",
    "backend = Aer.get_backend('statevector_simulator')\n",
    "job = execute(circ_bell2, backend)\n",
    "\n",
    "\n",
    "state = job.result().get_statevector()\n",
    "\n",
    "for i in range(4):\n",
    "    s = format(i,\"b\")    # convert to binary\n",
    "    s = (2 - len(s))*\"0\"+s  # prepend 0s\n",
    "    print(\"Amplitude of\",s,\"=\", state[i])\n",
    "\n",
    "print()\n",
    "\n",
    "for i in range(4):\n",
    "    s = format(i,\"b\")    # convert to binary\n",
    "    s = (2 - len(s))*\"0\"+s  # prepend 0s\n",
    "    print(\"Probability of\",s,\"=\", state[i]**2)\n",
    "\n"
   ]
  },
  {
   "cell_type": "code",
   "execution_count": 6,
   "id": "d9accd4f",
   "metadata": {},
   "outputs": [
    {
     "name": "stdout",
     "output_type": "stream",
     "text": [
      "ibmq_manila                  ibmq_quito                   ibmq_belem\n",
      "-----------                  ----------                   ----------\n",
      "Num. Qubits:  5              Num. Qubits:  5              Num. Qubits:  5\n",
      "Pending Jobs: 4              Pending Jobs: 9              Pending Jobs: 25\n",
      "Least busy:   False          Least busy:   False          Least busy:   False\n",
      "Operational:  True           Operational:  True           Operational:  True\n",
      "Avg. T1:      173.7          Avg. T1:      83.1           Avg. T1:      90.9\n",
      "Avg. T2:      62.7           Avg. T2:      88.6           Avg. T2:      107.9\n",
      "\n",
      "\n",
      "\n",
      "ibmq_lima                   ibmq_santiago                ibmq_athens\n",
      "---------                   -------------                -----------\n",
      "Num. Qubits:  5             Num. Qubits:  5              Num. Qubits:  5\n",
      "Pending Jobs: 2             Pending Jobs: 15             Pending Jobs: 12\n",
      "Least busy:   True          Least busy:   False          Least busy:   False\n",
      "Operational:  True          Operational:  True           Operational:  True\n",
      "Avg. T1:      67.3          Avg. T1:      127.1          Avg. T1:      82.9\n",
      "Avg. T2:      63.6          Avg. T2:      142.0          Avg. T2:      103.3\n",
      "\n",
      "\n",
      "\n",
      "ibmq_armonk                  ibmq_16_melbourne            ibmqx2\n",
      "-----------                  -----------------            ------\n",
      "Num. Qubits:  1              Num. Qubits:  15             Num. Qubits:  5\n",
      "Pending Jobs: 2              Pending Jobs: 50             Pending Jobs: 815\n",
      "Least busy:   False          Least busy:   False          Least busy:   False\n",
      "Operational:  True           Operational:  True           Operational:  True\n",
      "Avg. T1:      162.3          Avg. T1:      56.0           Avg. T1:      53.7\n",
      "Avg. T2:      263.6          Avg. T2:      54.4           Avg. T2:      37.8\n",
      "\n",
      "\n",
      "\n"
     ]
    }
   ],
   "source": [
    "provider = IBMQ.load_account()\n",
    "backend_overview()"
   ]
  },
  {
   "cell_type": "code",
   "execution_count": 15,
   "id": "0eea437b",
   "metadata": {},
   "outputs": [],
   "source": [
    "#backend_monitor(provider.get_backend(\"ibmq_manila\"))"
   ]
  },
  {
   "cell_type": "code",
   "execution_count": 10,
   "id": "496d19f7",
   "metadata": {},
   "outputs": [
    {
     "name": "stdout",
     "output_type": "stream",
     "text": [
      "we are executing on.... ibmq_lima\n",
      "It has 2 pending jobs\n",
      "Job Status: job has successfully run\n"
     ]
    }
   ],
   "source": [
    "from qiskit.providers.ibmq import least_busy\n",
    "\n",
    "backend = least_busy(provider.backends(operational = True, simulator = False, status_msg= 'active',filters=lambda x: x.configuration().n_qubits>1))\n",
    "print(\"we are executing on....\", backend)\n",
    "print(\"It has\", backend.status().pending_jobs,\"pending jobs\")\n",
    "job_exp = execute(circ_bell, backend=backend)\n",
    "job_monitor(job_exp)"
   ]
  },
  {
   "cell_type": "code",
   "execution_count": 13,
   "id": "454a4b18",
   "metadata": {},
   "outputs": [],
   "source": [
    "result_exp = job_exp.result()\n",
    "counts_exp = result_exp.get_counts(circ_bell)"
   ]
  },
  {
   "cell_type": "code",
   "execution_count": 14,
   "id": "6c6db705",
   "metadata": {},
   "outputs": [
    {
     "data": {
      "image/png": "[encoded data removed]",
      "text/plain": [
       "<Figure size 504x360 with 1 Axes>"
      ]
     },
     "execution_count": 14,
     "metadata": {},
     "output_type": "execute_result"
    }
   ],
   "source": [
    "plot_histogram([counts_exp,counts], legend=[\"Device\",\"Simulator\"])"
   ]
  }
 ],
 "metadata": {
  "kernelspec": {
   "display_name": "quantum",
   "language": "python",
   "name": "quantum"
  },
  "language_info": {
   "codemirror_mode": {
    "name": "ipython",
    "version": 3
   },
   "file_extension": ".py",
   "mimetype": "text/x-python",
   "name": "python",
   "nbconvert_exporter": "python",
   "pygments_lexer": "ipython3",
   "version": "3.8.5"
  }
 },
 "nbformat": 4,
 "nbformat_minor": 5
}
