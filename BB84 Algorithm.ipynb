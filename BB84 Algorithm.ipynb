{
 "cells": [
  {
   "cell_type": "markdown",
   "id": "c6600663",
   "metadata": {},
   "source": [
    "## BB84 Algorithm"
   ]
  },
  {
   "cell_type": "code",
   "execution_count": 1,
   "id": "b39bdf20",
   "metadata": {},
   "outputs": [
    {
     "data": {
      "image/png": "[encoded data removed]",
      "text/plain": [
       "<Figure size 193.726x144.48 with 1 Axes>"
      ]
     },
     "execution_count": 1,
     "metadata": {},
     "output_type": "execute_result"
    }
   ],
   "source": [
    "%matplotlib inline\n",
    "from qiskit import *                      # importing all libraries of Qiskit \n",
    "from qiskit.visualization import *        # importing the visualization libraries\n",
    "from qiskit.tools.monitor import *\n",
    "\n",
    "circ_random = QuantumCircuit(1,1)         # making a Quantum Circuit with 1 qubit and 1 classical channel\n",
    "circ_random.h(0)                          # applying an Hadamard gate on the Qubit\n",
    "\n",
    "circ_random.measure(range(1),range(1))    # measuring the qubit\n",
    "\n",
    "circ_random.draw(output='mpl')            # drawing the Quantum circuit\n"
   ]
  },
  {
   "cell_type": "code",
   "execution_count": 2,
   "id": "71a4990c",
   "metadata": {},
   "outputs": [
    {
     "name": "stdout",
     "output_type": "stream",
     "text": [
      "[1, 1, 0, 1, 0, 0, 1, 0, 1, 1, 0, 0, 0, 1, 1, 0, 0, 0, 0, 0, 1, 0, 1, 0, 0, 1, 1, 0, 0, 0, 0, 1, 0, 0, 0, 0, 0, 1, 0, 1, 1, 1, 0, 1, 1, 0, 0, 0, 1, 1, 1, 0, 0, 1, 1, 0, 1, 1, 0, 1, 1, 0, 0, 0, 0, 0, 1, 0, 0, 0, 0, 1, 0, 1, 0, 1, 1, 0, 1, 1, 1, 1, 1, 0, 0, 1, 0, 1, 0, 0, 1, 0, 0, 1, 0, 0, 0, 1, 1, 1]\n"
     ]
    }
   ],
   "source": [
    "n = 100                                                       # length of the message string alice will send\n",
    "\n",
    "backend = Aer.get_backend('qasm_simulator')                    # making the QASM simulator as the backend\n",
    "job = execute(circ_random, backend, shots =n , memory = True)  # running the circuit to get random 100 bits\n",
    "bits_alice =[int(q) for q in job.result().get_memory()]        # making them as the alice bits\n",
    "print(bits_alice)"
   ]
  },
  {
   "cell_type": "code",
   "execution_count": 3,
   "id": "08181944",
   "metadata": {},
   "outputs": [
    {
     "name": "stdout",
     "output_type": "stream",
     "text": [
      "[0, 1, 0, 1, 0, 0, 1, 1, 0, 0, 0, 0, 0, 1, 1, 1, 0, 0, 1, 0, 0, 1, 0, 1, 1, 1, 1, 1, 1, 1, 1, 1, 0, 1, 0, 1, 0, 1, 1, 0, 1, 1, 0, 0, 0, 1, 0, 0, 1, 1, 1, 1, 1, 0, 1, 1, 0, 1, 1, 0, 1, 0, 0, 0, 0, 1, 0, 0, 1, 1, 1, 1, 1, 1, 0, 1, 0, 0, 1, 0, 1, 0, 1, 0, 1, 1, 0, 1, 0, 1, 1, 1, 1, 0, 1, 0, 1, 0, 1, 0]\n"
     ]
    }
   ],
   "source": [
    "job = execute(circ_random, backend, shots = n, memory =True)   # setting  memory = True to save all the data\n",
    "basis_alice = [int(q) for q in job.result().get_memory()]      # making the second set as Alice Base\n",
    "print(basis_alice)"
   ]
  },
  {
   "cell_type": "code",
   "execution_count": 4,
   "id": "54710f82",
   "metadata": {},
   "outputs": [
    {
     "name": "stdout",
     "output_type": "stream",
     "text": [
      "[0, 0, 0, 0, 1, 1, 0, 0, 0, 1, 1, 0, 0, 0, 1, 0, 0, 1, 1, 0, 0, 1, 1, 0, 0, 1, 0, 1, 1, 1, 1, 1, 1, 1, 0, 1, 1, 0, 0, 0, 1, 0, 0, 0, 0, 1, 1, 1, 1, 0, 0, 0, 1, 1, 1, 1, 1, 0, 0, 0, 1, 0, 0, 1, 1, 1, 0, 1, 1, 0, 0, 0, 1, 0, 0, 1, 0, 0, 1, 0, 0, 1, 0, 0, 1, 1, 1, 0, 0, 0, 0, 0, 0, 0, 0, 0, 1, 0, 1, 0]\n"
     ]
    }
   ],
   "source": [
    "job = execute(circ_random, backend, shots = n, memory =True)\n",
    "basis_bob = [int(q) for q in job.result().get_memory()]\n",
    "print(basis_bob)"
   ]
  },
  {
   "cell_type": "code",
   "execution_count": 6,
   "id": "210146b8",
   "metadata": {},
   "outputs": [
    {
     "name": "stdout",
     "output_type": "stream",
     "text": [
      "[1, 1, 0, 1, 1, 0, 1, 0, 1, 0, 1, 0, 0, 0, 1, 0, 0, 0, 0, 0, 1, 0, 1, 1, 1, 1, 1, 0, 0, 0, 0, 1, 0, 0, 0, 0, 0, 0, 0, 1, 1, 1, 0, 1, 1, 0, 0, 1, 1, 1, 1, 1, 0, 0, 1, 0, 0, 1, 0, 1, 1, 0, 0, 1, 1, 0, 1, 0, 0, 1, 0, 1, 0, 1, 0, 1, 1, 0, 1, 1, 1, 0, 1, 0, 0, 1, 0, 0, 0, 1, 1, 1, 1, 1, 1, 0, 0, 1, 1, 1]\n"
     ]
    }
   ],
   "source": [
    "\n",
    "bits_bob = []\n",
    "\n",
    "for i in range(n):\n",
    "    circ_send = QuantumCircuit(1,1)\n",
    "    if bits_alice[i]:   # alice has to send 1\n",
    "        circ_send.x(0)\n",
    "    if basis_alice[i]:   # alice codes in Hadmaard basis\n",
    "        circ_send.h(0)\n",
    "        \n",
    "        \n",
    "        # alice sends the qubits\n",
    "    if basis_bob[i]:      # bob has to measure in Hadamard basis\n",
    "        circ_send.h(0)\n",
    "        \n",
    "    circ_send.measure(0,0)\n",
    "    \n",
    "    job = execute(circ_send, backend, shots = 1, memory = True)\n",
    "    bits_bob.append( int(job.result().get_memory()[0]))\n",
    "    \n",
    "    \n",
    "print(bits_bob)"
   ]
  },
  {
   "cell_type": "code",
   "execution_count": 7,
   "id": "b8ae79e7",
   "metadata": {},
   "outputs": [
    {
     "name": "stdout",
     "output_type": "stream",
     "text": [
      "Key Length 54\n",
      "[1, 0, 1, 0, 0, 1, 0, 0, 0, 1, 0, 1, 0, 0, 0, 0, 1, 0, 0, 0, 1, 1, 0, 1, 1, 0, 1, 0, 1, 0, 1, 1, 0, 0, 0, 1, 0, 0, 0, 1, 1, 0, 1, 1, 0, 0, 1, 0, 1, 0, 0, 1, 1, 1]\n"
     ]
    }
   ],
   "source": [
    "# bob tell alice the bases he use and vice versa\n",
    "\n",
    "key = []\n",
    "\n",
    "for i in range(n):\n",
    "    if basis_alice[i] ==  basis_bob[i]:\n",
    "        key.append(bits_bob[i])\n",
    "        \n",
    "print(\"Key Length\", len(key))\n",
    "print(key)"
   ]
  },
  {
   "cell_type": "markdown",
   "id": "652617a8",
   "metadata": {},
   "source": [
    "Here we can see that the more than 50% of the bits were correctly measured by Bob and will serve as the key for further messages."
   ]
  }
 ],
 "metadata": {
  "kernelspec": {
   "display_name": "quantum",
   "language": "python",
   "name": "quantum"
  },
  "language_info": {
   "codemirror_mode": {
    "name": "ipython",
    "version": 3
   },
   "file_extension": ".py",
   "mimetype": "text/x-python",
   "name": "python",
   "nbconvert_exporter": "python",
   "pygments_lexer": "ipython3",
   "version": "3.8.5"
  }
 },
 "nbformat": 4,
 "nbformat_minor": 5
}
