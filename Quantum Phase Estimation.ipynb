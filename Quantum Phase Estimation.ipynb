{
 "cells": [
  {
   "cell_type": "markdown",
   "id": "c6f4b3dc",
   "metadata": {},
   "source": [
    "## Quantum Phase Estimation"
   ]
  },
  {
   "cell_type": "markdown",
   "id": "52093adb",
   "metadata": {},
   "source": [
    "### Creating thCircuit"
   ]
  },
  {
   "cell_type": "code",
   "execution_count": 1,
   "id": "f0827107",
   "metadata": {},
   "outputs": [],
   "source": [
    "#initialization\n",
    "import matplotlib.pyplot as plt\n",
    "import numpy as np\n",
    "import math\n",
    "\n",
    "# importing Qiskit\n",
    "from qiskit import IBMQ, Aer, transpile, assemble\n",
    "from qiskit import QuantumCircuit, ClassicalRegister, QuantumRegister\n",
    "\n",
    "# import basic plot tools\n",
    "from qiskit.visualization import plot_histogram"
   ]
  },
  {
   "cell_type": "markdown",
   "id": "43900241",
   "metadata": {},
   "source": [
    "Now, set up the quantum circuit. We will use four qubits -- qubits 0 to 2 as counting qubits, and qubit 3 as the eigenstate of the unitary operator ( \n",
    "T\n",
    " ).\n",
    "\n",
    "We initialize  \n",
    "$|\n",
    "\\psi\n",
    "\\rangle\n",
    "=\n",
    "|\n",
    "1\n",
    "\\rangle$\n",
    "  by applying an  \n",
    "X\n",
    "  gate:"
   ]
  },
  {
   "cell_type": "code",
   "execution_count": 2,
   "id": "b4626035",
   "metadata": {},
   "outputs": [
    {
     "data": {
      "text/html": [
       "<pre style=\"word-wrap: normal;white-space: pre;background: #fff0;line-height: 1.1;font-family: &quot;Courier New&quot;,Courier,monospace\">          \n",
       "q_0: ─────\n",
       "          \n",
       "q_1: ─────\n",
       "          \n",
       "q_2: ─────\n",
       "     ┌───┐\n",
       "q_3: ┤ X ├\n",
       "     └───┘\n",
       "c: 3/═════\n",
       "          </pre>"
      ],
      "text/plain": [
       "          \n",
       "q_0: ─────\n",
       "          \n",
       "q_1: ─────\n",
       "          \n",
       "q_2: ─────\n",
       "     ┌───┐\n",
       "q_3: ┤ X ├\n",
       "     └───┘\n",
       "c: 3/═════\n",
       "          "
      ]
     },
     "execution_count": 2,
     "metadata": {},
     "output_type": "execute_result"
    }
   ],
   "source": [
    "qpe = QuantumCircuit(4, 3)\n",
    "qpe.x(3)\n",
    "qpe.draw()"
   ]
  },
  {
   "cell_type": "markdown",
   "id": "a901d90a",
   "metadata": {},
   "source": [
    "Next, we apply Hadamard gates to the counting qubits:"
   ]
  },
  {
   "cell_type": "code",
   "execution_count": 3,
   "id": "163b9ad8",
   "metadata": {},
   "outputs": [
    {
     "data": {
      "text/html": [
       "<pre style=\"word-wrap: normal;white-space: pre;background: #fff0;line-height: 1.1;font-family: &quot;Courier New&quot;,Courier,monospace\">     ┌───┐\n",
       "q_0: ┤ H ├\n",
       "     ├───┤\n",
       "q_1: ┤ H ├\n",
       "     ├───┤\n",
       "q_2: ┤ H ├\n",
       "     ├───┤\n",
       "q_3: ┤ X ├\n",
       "     └───┘\n",
       "c: 3/═════\n",
       "          </pre>"
      ],
      "text/plain": [
       "     ┌───┐\n",
       "q_0: ┤ H ├\n",
       "     ├───┤\n",
       "q_1: ┤ H ├\n",
       "     ├───┤\n",
       "q_2: ┤ H ├\n",
       "     ├───┤\n",
       "q_3: ┤ X ├\n",
       "     └───┘\n",
       "c: 3/═════\n",
       "          "
      ]
     },
     "execution_count": 3,
     "metadata": {},
     "output_type": "execute_result"
    }
   ],
   "source": [
    "for qubit in range(3):\n",
    "    qpe.h(qubit)\n",
    "qpe.draw()"
   ]
  },
  {
   "cell_type": "markdown",
   "id": "c775b787",
   "metadata": {},
   "source": [
    "Next we perform the controlled unitary operations."
   ]
  },
  {
   "cell_type": "code",
   "execution_count": 4,
   "id": "e255a338",
   "metadata": {},
   "outputs": [
    {
     "data": {
      "text/html": [
       "<pre style=\"word-wrap: normal;white-space: pre;background: #fff0;line-height: 1.1;font-family: &quot;Courier New&quot;,Courier,monospace\">     ┌───┐                                                               \n",
       "q_0: ┤ H ├─■─────────────────────────────────────────────────────────────\n",
       "     ├───┤ │                                                             \n",
       "q_1: ┤ H ├─┼────────■────────■───────────────────────────────────────────\n",
       "     ├───┤ │        │        │                                           \n",
       "q_2: ┤ H ├─┼────────┼────────┼────────■────────■────────■────────■───────\n",
       "     ├───┤ │P(π/4)  │P(π/4)  │P(π/4)  │P(π/4)  │P(π/4)  │P(π/4)  │P(π/4) \n",
       "q_3: ┤ X ├─■────────■────────■────────■────────■────────■────────■───────\n",
       "     └───┘                                                               \n",
       "c: 3/════════════════════════════════════════════════════════════════════\n",
       "                                                                         </pre>"
      ],
      "text/plain": [
       "     ┌───┐                                                               \n",
       "q_0: ┤ H ├─■─────────────────────────────────────────────────────────────\n",
       "     ├───┤ │                                                             \n",
       "q_1: ┤ H ├─┼────────■────────■───────────────────────────────────────────\n",
       "     ├───┤ │        │        │                                           \n",
       "q_2: ┤ H ├─┼────────┼────────┼────────■────────■────────■────────■───────\n",
       "     ├───┤ │P(π/4)  │P(π/4)  │P(π/4)  │P(π/4)  │P(π/4)  │P(π/4)  │P(π/4) \n",
       "q_3: ┤ X ├─■────────■────────■────────■────────■────────■────────■───────\n",
       "     └───┘                                                               \n",
       "c: 3/════════════════════════════════════════════════════════════════════\n",
       "                                                                         "
      ]
     },
     "execution_count": 4,
     "metadata": {},
     "output_type": "execute_result"
    }
   ],
   "source": [
    "repetitions = 1\n",
    "for counting_qubit in range(3):\n",
    "    for i in range(repetitions):\n",
    "        qpe.cp(math.pi/4, counting_qubit, 3); # This is C-U\n",
    "    repetitions *= 2\n",
    "qpe.draw()"
   ]
  },
  {
   "cell_type": "markdown",
   "id": "9d6bb06e",
   "metadata": {},
   "source": [
    "We apply the inverse quantum Fourier transformation to convert the state of the counting register. Here we provide the code for  \n",
    "Q\n",
    "F\n",
    "T\n",
    "†\n",
    " :"
   ]
  },
  {
   "cell_type": "code",
   "execution_count": 5,
   "id": "53e6e83a",
   "metadata": {},
   "outputs": [],
   "source": [
    "def qft_dagger(qc, n):\n",
    "    \"\"\"n-qubit QFTdagger the first n qubits in circ\"\"\"\n",
    "    # Don't forget the Swaps!\n",
    "    for qubit in range(n//2):\n",
    "        qc.swap(qubit, n-qubit-1)\n",
    "    for j in range(n):\n",
    "        for m in range(j):\n",
    "            qc.cp(-math.pi/float(2**(j-m)), m, j)\n",
    "        qc.h(j)"
   ]
  },
  {
   "cell_type": "markdown",
   "id": "321f8d2c",
   "metadata": {},
   "source": [
    "We then measure the counting register:"
   ]
  },
  {
   "cell_type": "code",
   "execution_count": 6,
   "id": "b571bf72",
   "metadata": {},
   "outputs": [],
   "source": [
    "qpe.barrier()\n",
    "# Apply inverse QFT\n",
    "qft_dagger(qpe, 3)\n",
    "# Measure\n",
    "qpe.barrier()\n",
    "for n in range(3):\n",
    "    qpe.measure(n,n)"
   ]
  },
  {
   "cell_type": "code",
   "execution_count": 7,
   "id": "8cb72498",
   "metadata": {},
   "outputs": [
    {
     "data": {
      "text/html": [
       "<pre style=\"word-wrap: normal;white-space: pre;background: #fff0;line-height: 1.1;font-family: &quot;Courier New&quot;,Courier,monospace\">     ┌───┐                                                                ░    »\n",
       "q_0: ┤ H ├─■──────────────────────────────────────────────────────────────░──X─»\n",
       "     ├───┤ │                                                              ░  │ »\n",
       "q_1: ┤ H ├─┼────────■────────■────────────────────────────────────────────░──┼─»\n",
       "     ├───┤ │        │        │                                            ░  │ »\n",
       "q_2: ┤ H ├─┼────────┼────────┼────────■────────■────────■────────■────────░──X─»\n",
       "     ├───┤ │P(π/4)  │P(π/4)  │P(π/4)  │P(π/4)  │P(π/4)  │P(π/4)  │P(π/4)  ░    »\n",
       "q_3: ┤ X ├─■────────■────────■────────■────────■────────■────────■────────░────»\n",
       "     └───┘                                                                ░    »\n",
       "c: 3/══════════════════════════════════════════════════════════════════════════»\n",
       "                                                                               »\n",
       "«     ┌───┐                                         ░ ┌─┐      \n",
       "«q_0: ┤ H ├─■──────────────■────────────────────────░─┤M├──────\n",
       "«     └───┘ │P(-π/2) ┌───┐ │                        ░ └╥┘┌─┐   \n",
       "«q_1: ──────■────────┤ H ├─┼─────────■──────────────░──╫─┤M├───\n",
       "«                    └───┘ │P(-π/4)  │P(-π/2) ┌───┐ ░  ║ └╥┘┌─┐\n",
       "«q_2: ─────────────────────■─────────■────────┤ H ├─░──╫──╫─┤M├\n",
       "«                                             └───┘ ░  ║  ║ └╥┘\n",
       "«q_3: ──────────────────────────────────────────────░──╫──╫──╫─\n",
       "«                                                   ░  ║  ║  ║ \n",
       "«c: 3/═════════════════════════════════════════════════╩══╩══╩═\n",
       "«                                                      0  1  2 </pre>"
      ],
      "text/plain": [
       "     ┌───┐                                                                ░    »\n",
       "q_0: ┤ H ├─■──────────────────────────────────────────────────────────────░──X─»\n",
       "     ├───┤ │                                                              ░  │ »\n",
       "q_1: ┤ H ├─┼────────■────────■────────────────────────────────────────────░──┼─»\n",
       "     ├───┤ │        │        │                                            ░  │ »\n",
       "q_2: ┤ H ├─┼────────┼────────┼────────■────────■────────■────────■────────░──X─»\n",
       "     ├───┤ │P(π/4)  │P(π/4)  │P(π/4)  │P(π/4)  │P(π/4)  │P(π/4)  │P(π/4)  ░    »\n",
       "q_3: ┤ X ├─■────────■────────■────────■────────■────────■────────■────────░────»\n",
       "     └───┘                                                                ░    »\n",
       "c: 3/══════════════════════════════════════════════════════════════════════════»\n",
       "                                                                               »\n",
       "«     ┌───┐                                         ░ ┌─┐      \n",
       "«q_0: ┤ H ├─■──────────────■────────────────────────░─┤M├──────\n",
       "«     └───┘ │P(-π/2) ┌───┐ │                        ░ └╥┘┌─┐   \n",
       "«q_1: ──────■────────┤ H ├─┼─────────■──────────────░──╫─┤M├───\n",
       "«                    └───┘ │P(-π/4)  │P(-π/2) ┌───┐ ░  ║ └╥┘┌─┐\n",
       "«q_2: ─────────────────────■─────────■────────┤ H ├─░──╫──╫─┤M├\n",
       "«                                             └───┘ ░  ║  ║ └╥┘\n",
       "«q_3: ──────────────────────────────────────────────░──╫──╫──╫─\n",
       "«                                                   ░  ║  ║  ║ \n",
       "«c: 3/═════════════════════════════════════════════════╩══╩══╩═\n",
       "«                                                      0  1  2 "
      ]
     },
     "execution_count": 7,
     "metadata": {},
     "output_type": "execute_result"
    }
   ],
   "source": [
    "qpe.draw()"
   ]
  },
  {
   "cell_type": "markdown",
   "id": "c82b7ad4",
   "metadata": {},
   "source": [
    "### Results"
   ]
  },
  {
   "cell_type": "code",
   "execution_count": 8,
   "id": "130a5753",
   "metadata": {},
   "outputs": [
    {
     "data": {
      "image/png": "[encoded data removed]",
      "text/plain": [
       "<Figure size 504x360 with 1 Axes>"
      ]
     },
     "execution_count": 8,
     "metadata": {},
     "output_type": "execute_result"
    }
   ],
   "source": [
    "aer_sim = Aer.get_backend('aer_simulator')\n",
    "shots = 2048\n",
    "t_qpe = transpile(qpe, aer_sim)\n",
    "qobj = assemble(t_qpe, shots=shots)\n",
    "results = aer_sim.run(qobj).result()\n",
    "answer = results.get_counts()\n",
    "\n",
    "plot_histogram(answer)"
   ]
  },
  {
   "cell_type": "markdown",
   "id": "812be640",
   "metadata": {},
   "source": [
    "### Getting More Precision\n",
    "\n",
    "#### The Problem \n",
    "Instead of a  \n",
    "T\n",
    " -gate, let’s use a gate with  \n",
    "$θ\n",
    "=\n",
    "1/\n",
    "3$\n",
    " . We set up our circuit as with the last example:"
   ]
  },
  {
   "cell_type": "code",
   "execution_count": 9,
   "id": "c8c6f888",
   "metadata": {},
   "outputs": [
    {
     "data": {
      "text/html": [
       "<pre style=\"word-wrap: normal;white-space: pre;background: #fff0;line-height: 1.1;font-family: &quot;Courier New&quot;,Courier,monospace\">     ┌───┐                                                            »\n",
       "q_0: ┤ H ├─■──────────────────────────────────────────────────────────»\n",
       "     ├───┤ │                                                          »\n",
       "q_1: ┤ H ├─┼─────────■─────────■──────────────────────────────────────»\n",
       "     ├───┤ │         │         │                                      »\n",
       "q_2: ┤ H ├─┼─────────┼─────────┼─────────■─────────■─────────■────────»\n",
       "     ├───┤ │P(2π/3)  │P(2π/3)  │P(2π/3)  │P(2π/3)  │P(2π/3)  │P(2π/3) »\n",
       "q_3: ┤ X ├─■─────────■─────────■─────────■─────────■─────────■────────»\n",
       "     └───┘                                                            »\n",
       "c: 3/═════════════════════════════════════════════════════════════════»\n",
       "                                                                      »\n",
       "«                  ┌───┐                                   ┌─┐           \n",
       "«q_0: ───────────X─┤ H ├─■──────────────■──────────────────┤M├───────────\n",
       "«                │ └───┘ │P(-π/2) ┌───┐ │                  └╥┘     ┌─┐   \n",
       "«q_1: ───────────┼───────■────────┤ H ├─┼─────────■─────────╫──────┤M├───\n",
       "«                │                └───┘ │P(-π/4)  │P(-π/2)  ║ ┌───┐└╥┘┌─┐\n",
       "«q_2: ─■─────────X──────────────────────■─────────■─────────╫─┤ H ├─╫─┤M├\n",
       "«      │P(2π/3)                                             ║ └───┘ ║ └╥┘\n",
       "«q_3: ─■────────────────────────────────────────────────────╫───────╫──╫─\n",
       "«                                                           ║       ║  ║ \n",
       "«c: 3/══════════════════════════════════════════════════════╩═══════╩══╩═\n",
       "«                                                           0       1  2 </pre>"
      ],
      "text/plain": [
       "     ┌───┐                                                            »\n",
       "q_0: ┤ H ├─■──────────────────────────────────────────────────────────»\n",
       "     ├───┤ │                                                          »\n",
       "q_1: ┤ H ├─┼─────────■─────────■──────────────────────────────────────»\n",
       "     ├───┤ │         │         │                                      »\n",
       "q_2: ┤ H ├─┼─────────┼─────────┼─────────■─────────■─────────■────────»\n",
       "     ├───┤ │P(2π/3)  │P(2π/3)  │P(2π/3)  │P(2π/3)  │P(2π/3)  │P(2π/3) »\n",
       "q_3: ┤ X ├─■─────────■─────────■─────────■─────────■─────────■────────»\n",
       "     └───┘                                                            »\n",
       "c: 3/═════════════════════════════════════════════════════════════════»\n",
       "                                                                      »\n",
       "«                  ┌───┐                                   ┌─┐           \n",
       "«q_0: ───────────X─┤ H ├─■──────────────■──────────────────┤M├───────────\n",
       "«                │ └───┘ │P(-π/2) ┌───┐ │                  └╥┘     ┌─┐   \n",
       "«q_1: ───────────┼───────■────────┤ H ├─┼─────────■─────────╫──────┤M├───\n",
       "«                │                └───┘ │P(-π/4)  │P(-π/2)  ║ ┌───┐└╥┘┌─┐\n",
       "«q_2: ─■─────────X──────────────────────■─────────■─────────╫─┤ H ├─╫─┤M├\n",
       "«      │P(2π/3)                                             ║ └───┘ ║ └╥┘\n",
       "«q_3: ─■────────────────────────────────────────────────────╫───────╫──╫─\n",
       "«                                                           ║       ║  ║ \n",
       "«c: 3/══════════════════════════════════════════════════════╩═══════╩══╩═\n",
       "«                                                           0       1  2 "
      ]
     },
     "execution_count": 9,
     "metadata": {},
     "output_type": "execute_result"
    }
   ],
   "source": [
    "# Create and set up circuit\n",
    "qpe2 = QuantumCircuit(4, 3)\n",
    "\n",
    "# Apply H-Gates to counting qubits:\n",
    "for qubit in range(3):\n",
    "    qpe2.h(qubit)\n",
    "\n",
    "# Prepare our eigenstate |psi>:\n",
    "qpe2.x(3)\n",
    "\n",
    "# Do the controlled-U operations:\n",
    "angle = 2*math.pi/3\n",
    "repetitions = 1\n",
    "for counting_qubit in range(3):\n",
    "    for i in range(repetitions):\n",
    "        qpe2.cp(angle, counting_qubit, 3);\n",
    "    repetitions *= 2\n",
    "\n",
    "# Do the inverse QFT:\n",
    "qft_dagger(qpe2, 3)\n",
    "\n",
    "# Measure of course!\n",
    "for n in range(3):\n",
    "    qpe2.measure(n,n)\n",
    "\n",
    "qpe2.draw()"
   ]
  },
  {
   "cell_type": "code",
   "execution_count": 10,
   "id": "99b35f20",
   "metadata": {},
   "outputs": [
    {
     "data": {
      "image/png": "[encoded data removed]",
      "text/plain": [
       "<Figure size 504x360 with 1 Axes>"
      ]
     },
     "execution_count": 10,
     "metadata": {},
     "output_type": "execute_result"
    }
   ],
   "source": [
    "# Let's see the results!\n",
    "aer_sim = Aer.get_backend('aer_simulator')\n",
    "shots = 4096\n",
    "t_qpe2 = transpile(qpe2, aer_sim)\n",
    "qobj = assemble(t_qpe2, shots=shots)\n",
    "results = aer_sim.run(qobj).result()\n",
    "answer = results.get_counts()\n",
    "\n",
    "plot_histogram(answer)"
   ]
  },
  {
   "cell_type": "markdown",
   "id": "69c75bf9",
   "metadata": {},
   "source": [
    "We are expecting the result  \n",
    "θ\n",
    "=\n",
    "0.3333\n",
    "…\n",
    " , and we see our most likely results are 010(bin) = 2(dec) and 011(bin) = 3(dec). These two results would tell us that  \n",
    "θ\n",
    "=\n",
    "0.25\n",
    "  (off by 25%) and  \n",
    "θ\n",
    "=\n",
    "0.375\n",
    "  (off by 13%) respectively. The true value of  \n",
    "θ\n",
    "  lies between the values we can get from our counting bits, and this gives us uncertainty and imprecision"
   ]
  },
  {
   "cell_type": "markdown",
   "id": "b2df7148",
   "metadata": {},
   "source": [
    "### Solution\n",
    "To get more precision we simply add more counting qubits. We are going to add two more counting qubits:"
   ]
  },
  {
   "cell_type": "code",
   "execution_count": 11,
   "id": "5e2f99d5",
   "metadata": {},
   "outputs": [
    {
     "data": {
      "text/html": [
       "<pre style=\"word-wrap: normal;white-space: pre;background: #fff0;line-height: 1.1;font-family: &quot;Courier New&quot;,Courier,monospace\">     ┌───┐                                                            »\n",
       "q_0: ┤ H ├─■──────────────────────────────────────────────────────────»\n",
       "     ├───┤ │                                                          »\n",
       "q_1: ┤ H ├─┼─────────■─────────■──────────────────────────────────────»\n",
       "     ├───┤ │         │         │                                      »\n",
       "q_2: ┤ H ├─┼─────────┼─────────┼─────────■─────────■─────────■────────»\n",
       "     ├───┤ │         │         │         │         │         │        »\n",
       "q_3: ┤ H ├─┼─────────┼─────────┼─────────┼─────────┼─────────┼────────»\n",
       "     ├───┤ │         │         │         │         │         │        »\n",
       "q_4: ┤ H ├─┼─────────┼─────────┼─────────┼─────────┼─────────┼────────»\n",
       "     ├───┤ │P(2π/3)  │P(2π/3)  │P(2π/3)  │P(2π/3)  │P(2π/3)  │P(2π/3) »\n",
       "q_5: ┤ X ├─■─────────■─────────■─────────■─────────■─────────■────────»\n",
       "     └───┘                                                            »\n",
       "c: 5/═════════════════════════════════════════════════════════════════»\n",
       "                                                                      »\n",
       "«                                                                           »\n",
       "«q_0: ──────────────────────────────────────────────────────────────────────»\n",
       "«                                                                           »\n",
       "«q_1: ──────────────────────────────────────────────────────────────────────»\n",
       "«                                                                           »\n",
       "«q_2: ─■────────────────────────────────────────────────────────────────────»\n",
       "«      │                                                                    »\n",
       "«q_3: ─┼─────────■─────────■─────────■─────────■─────────■─────────■────────»\n",
       "«      │         │         │         │         │         │         │        »\n",
       "«q_4: ─┼─────────┼─────────┼─────────┼─────────┼─────────┼─────────┼────────»\n",
       "«      │P(2π/3)  │P(2π/3)  │P(2π/3)  │P(2π/3)  │P(2π/3)  │P(2π/3)  │P(2π/3) »\n",
       "«q_5: ─■─────────■─────────■─────────■─────────■─────────■─────────■────────»\n",
       "«                                                                           »\n",
       "«c: 5/══════════════════════════════════════════════════════════════════════»\n",
       "«                                                                           »\n",
       "«                                                                           »\n",
       "«q_0: ──────────────────────────────────────────────────────────────────────»\n",
       "«                                                                           »\n",
       "«q_1: ────────────────────────X─────────────────────────────────────────────»\n",
       "«                             │                                             »\n",
       "«q_2: ────────────────────────┼─────────────────────────────────────────────»\n",
       "«                             │                                             »\n",
       "«q_3: ─■─────────■────────────X─────────────────────────────────────────────»\n",
       "«      │         │                                                          »\n",
       "«q_4: ─┼─────────┼─────────■─────────■─────────■─────────■─────────■────────»\n",
       "«      │P(2π/3)  │P(2π/3)  │P(2π/3)  │P(2π/3)  │P(2π/3)  │P(2π/3)  │P(2π/3) »\n",
       "«q_5: ─■─────────■─────────■─────────■─────────■─────────■─────────■────────»\n",
       "«                                                                           »\n",
       "«c: 5/══════════════════════════════════════════════════════════════════════»\n",
       "«                                                                           »\n",
       "«                                                                           »\n",
       "«q_0: ──────────────────────────────────────────────────────────────────────»\n",
       "«                                                                           »\n",
       "«q_1: ──────────────────────────────────────────────────────────────────────»\n",
       "«                                                                           »\n",
       "«q_2: ──────────────────────────────────────────────────────────────────────»\n",
       "«                                                                           »\n",
       "«q_3: ──────────────────────────────────────────────────────────────────────»\n",
       "«                                                                           »\n",
       "«q_4: ─■─────────■─────────■─────────■─────────■─────────■─────────■────────»\n",
       "«      │P(2π/3)  │P(2π/3)  │P(2π/3)  │P(2π/3)  │P(2π/3)  │P(2π/3)  │P(2π/3) »\n",
       "«q_5: ─■─────────■─────────■─────────■─────────■─────────■─────────■────────»\n",
       "«                                                                           »\n",
       "«c: 5/══════════════════════════════════════════════════════════════════════»\n",
       "«                                                                           »\n",
       "«                                                ┌───┐                         »\n",
       "«q_0: ─────────────────────────────────────────X─┤ H ├─■──────────────■────────»\n",
       "«                                              │ └───┘ │P(-π/2) ┌───┐ │        »\n",
       "«q_1: ─────────────────────────────────────────┼───────■────────┤ H ├─┼────────»\n",
       "«                                              │                └───┘ │P(-π/4) »\n",
       "«q_2: ─────────────────────────────────────────┼──────────────────────■────────»\n",
       "«                                              │                               »\n",
       "«q_3: ─────────────────────────────────────────┼───────────────────────────────»\n",
       "«                                              │                               »\n",
       "«q_4: ─■─────────■─────────■─────────■─────────X───────────────────────────────»\n",
       "«      │P(2π/3)  │P(2π/3)  │P(2π/3)  │P(2π/3)                                  »\n",
       "«q_5: ─■─────────■─────────■─────────■─────────────────────────────────────────»\n",
       "«                                                                              »\n",
       "«c: 5/═════════════════════════════════════════════════════════════════════════»\n",
       "«                                                                              »\n",
       "«                                                                            »\n",
       "«q_0: ───────────■────────────────────────■──────────────────────────────────»\n",
       "«                │                        │                                  »\n",
       "«q_1: ─■─────────┼──────────────■─────────┼────────────────────■─────────────»\n",
       "«      │P(-π/2)  │        ┌───┐ │         │                    │             »\n",
       "«q_2: ─■─────────┼────────┤ H ├─┼─────────┼──────────■─────────┼─────────────»\n",
       "«                │P(-π/8) └───┘ │P(-π/4)  │          │P(-π/2)  │        ┌───┐»\n",
       "«q_3: ───────────■──────────────■─────────┼──────────■─────────┼────────┤ H ├»\n",
       "«                                         │P(-π/16)            │P(-π/8) └───┘»\n",
       "«q_4: ────────────────────────────────────■────────────────────■─────────────»\n",
       "«                                                                            »\n",
       "«q_5: ───────────────────────────────────────────────────────────────────────»\n",
       "«                                                                            »\n",
       "«c: 5/═══════════════════════════════════════════════════════════════════════»\n",
       "«                                                                            »\n",
       "«                               ░ ┌─┐            \n",
       "«q_0: ──────────────────────────░─┤M├────────────\n",
       "«                               ░ └╥┘┌─┐         \n",
       "«q_1: ──────────────────────────░──╫─┤M├─────────\n",
       "«                               ░  ║ └╥┘┌─┐      \n",
       "«q_2: ─■────────────────────────░──╫──╫─┤M├──────\n",
       "«      │                        ░  ║  ║ └╥┘┌─┐   \n",
       "«q_3: ─┼─────────■──────────────░──╫──╫──╫─┤M├───\n",
       "«      │P(-π/4)  │P(-π/2) ┌───┐ ░  ║  ║  ║ └╥┘┌─┐\n",
       "«q_4: ─■─────────■────────┤ H ├─░──╫──╫──╫──╫─┤M├\n",
       "«                         └───┘ ░  ║  ║  ║  ║ └╥┘\n",
       "«q_5: ──────────────────────────░──╫──╫──╫──╫──╫─\n",
       "«                               ░  ║  ║  ║  ║  ║ \n",
       "«c: 5/═════════════════════════════╩══╩══╩══╩══╩═\n",
       "«                                  0  1  2  3  4 </pre>"
      ],
      "text/plain": [
       "     ┌───┐                                                            »\n",
       "q_0: ┤ H ├─■──────────────────────────────────────────────────────────»\n",
       "     ├───┤ │                                                          »\n",
       "q_1: ┤ H ├─┼─────────■─────────■──────────────────────────────────────»\n",
       "     ├───┤ │         │         │                                      »\n",
       "q_2: ┤ H ├─┼─────────┼─────────┼─────────■─────────■─────────■────────»\n",
       "     ├───┤ │         │         │         │         │         │        »\n",
       "q_3: ┤ H ├─┼─────────┼─────────┼─────────┼─────────┼─────────┼────────»\n",
       "     ├───┤ │         │         │         │         │         │        »\n",
       "q_4: ┤ H ├─┼─────────┼─────────┼─────────┼─────────┼─────────┼────────»\n",
       "     ├───┤ │P(2π/3)  │P(2π/3)  │P(2π/3)  │P(2π/3)  │P(2π/3)  │P(2π/3) »\n",
       "q_5: ┤ X ├─■─────────■─────────■─────────■─────────■─────────■────────»\n",
       "     └───┘                                                            »\n",
       "c: 5/═════════════════════════════════════════════════════════════════»\n",
       "                                                                      »\n",
       "«                                                                           »\n",
       "«q_0: ──────────────────────────────────────────────────────────────────────»\n",
       "«                                                                           »\n",
       "«q_1: ──────────────────────────────────────────────────────────────────────»\n",
       "«                                                                           »\n",
       "«q_2: ─■────────────────────────────────────────────────────────────────────»\n",
       "«      │                                                                    »\n",
       "«q_3: ─┼─────────■─────────■─────────■─────────■─────────■─────────■────────»\n",
       "«      │         │         │         │         │         │         │        »\n",
       "«q_4: ─┼─────────┼─────────┼─────────┼─────────┼─────────┼─────────┼────────»\n",
       "«      │P(2π/3)  │P(2π/3)  │P(2π/3)  │P(2π/3)  │P(2π/3)  │P(2π/3)  │P(2π/3) »\n",
       "«q_5: ─■─────────■─────────■─────────■─────────■─────────■─────────■────────»\n",
       "«                                                                           »\n",
       "«c: 5/══════════════════════════════════════════════════════════════════════»\n",
       "«                                                                           »\n",
       "«                                                                           »\n",
       "«q_0: ──────────────────────────────────────────────────────────────────────»\n",
       "«                                                                           »\n",
       "«q_1: ────────────────────────X─────────────────────────────────────────────»\n",
       "«                             │                                             »\n",
       "«q_2: ────────────────────────┼─────────────────────────────────────────────»\n",
       "«                             │                                             »\n",
       "«q_3: ─■─────────■────────────X─────────────────────────────────────────────»\n",
       "«      │         │                                                          »\n",
       "«q_4: ─┼─────────┼─────────■─────────■─────────■─────────■─────────■────────»\n",
       "«      │P(2π/3)  │P(2π/3)  │P(2π/3)  │P(2π/3)  │P(2π/3)  │P(2π/3)  │P(2π/3) »\n",
       "«q_5: ─■─────────■─────────■─────────■─────────■─────────■─────────■────────»\n",
       "«                                                                           »\n",
       "«c: 5/══════════════════════════════════════════════════════════════════════»\n",
       "«                                                                           »\n",
       "«                                                                           »\n",
       "«q_0: ──────────────────────────────────────────────────────────────────────»\n",
       "«                                                                           »\n",
       "«q_1: ──────────────────────────────────────────────────────────────────────»\n",
       "«                                                                           »\n",
       "«q_2: ──────────────────────────────────────────────────────────────────────»\n",
       "«                                                                           »\n",
       "«q_3: ──────────────────────────────────────────────────────────────────────»\n",
       "«                                                                           »\n",
       "«q_4: ─■─────────■─────────■─────────■─────────■─────────■─────────■────────»\n",
       "«      │P(2π/3)  │P(2π/3)  │P(2π/3)  │P(2π/3)  │P(2π/3)  │P(2π/3)  │P(2π/3) »\n",
       "«q_5: ─■─────────■─────────■─────────■─────────■─────────■─────────■────────»\n",
       "«                                                                           »\n",
       "«c: 5/══════════════════════════════════════════════════════════════════════»\n",
       "«                                                                           »\n",
       "«                                                ┌───┐                         »\n",
       "«q_0: ─────────────────────────────────────────X─┤ H ├─■──────────────■────────»\n",
       "«                                              │ └───┘ │P(-π/2) ┌───┐ │        »\n",
       "«q_1: ─────────────────────────────────────────┼───────■────────┤ H ├─┼────────»\n",
       "«                                              │                └───┘ │P(-π/4) »\n",
       "«q_2: ─────────────────────────────────────────┼──────────────────────■────────»\n",
       "«                                              │                               »\n",
       "«q_3: ─────────────────────────────────────────┼───────────────────────────────»\n",
       "«                                              │                               »\n",
       "«q_4: ─■─────────■─────────■─────────■─────────X───────────────────────────────»\n",
       "«      │P(2π/3)  │P(2π/3)  │P(2π/3)  │P(2π/3)                                  »\n",
       "«q_5: ─■─────────■─────────■─────────■─────────────────────────────────────────»\n",
       "«                                                                              »\n",
       "«c: 5/═════════════════════════════════════════════════════════════════════════»\n",
       "«                                                                              »\n",
       "«                                                                            »\n",
       "«q_0: ───────────■────────────────────────■──────────────────────────────────»\n",
       "«                │                        │                                  »\n",
       "«q_1: ─■─────────┼──────────────■─────────┼────────────────────■─────────────»\n",
       "«      │P(-π/2)  │        ┌───┐ │         │                    │             »\n",
       "«q_2: ─■─────────┼────────┤ H ├─┼─────────┼──────────■─────────┼─────────────»\n",
       "«                │P(-π/8) └───┘ │P(-π/4)  │          │P(-π/2)  │        ┌───┐»\n",
       "«q_3: ───────────■──────────────■─────────┼──────────■─────────┼────────┤ H ├»\n",
       "«                                         │P(-π/16)            │P(-π/8) └───┘»\n",
       "«q_4: ────────────────────────────────────■────────────────────■─────────────»\n",
       "«                                                                            »\n",
       "«q_5: ───────────────────────────────────────────────────────────────────────»\n",
       "«                                                                            »\n",
       "«c: 5/═══════════════════════════════════════════════════════════════════════»\n",
       "«                                                                            »\n",
       "«                               ░ ┌─┐            \n",
       "«q_0: ──────────────────────────░─┤M├────────────\n",
       "«                               ░ └╥┘┌─┐         \n",
       "«q_1: ──────────────────────────░──╫─┤M├─────────\n",
       "«                               ░  ║ └╥┘┌─┐      \n",
       "«q_2: ─■────────────────────────░──╫──╫─┤M├──────\n",
       "«      │                        ░  ║  ║ └╥┘┌─┐   \n",
       "«q_3: ─┼─────────■──────────────░──╫──╫──╫─┤M├───\n",
       "«      │P(-π/4)  │P(-π/2) ┌───┐ ░  ║  ║  ║ └╥┘┌─┐\n",
       "«q_4: ─■─────────■────────┤ H ├─░──╫──╫──╫──╫─┤M├\n",
       "«                         └───┘ ░  ║  ║  ║  ║ └╥┘\n",
       "«q_5: ──────────────────────────░──╫──╫──╫──╫──╫─\n",
       "«                               ░  ║  ║  ║  ║  ║ \n",
       "«c: 5/═════════════════════════════╩══╩══╩══╩══╩═\n",
       "«                                  0  1  2  3  4 "
      ]
     },
     "execution_count": 11,
     "metadata": {},
     "output_type": "execute_result"
    }
   ],
   "source": [
    "# Create and set up circuit\n",
    "qpe3 = QuantumCircuit(6, 5)\n",
    "\n",
    "# Apply H-Gates to counting qubits:\n",
    "for qubit in range(5):\n",
    "    qpe3.h(qubit)\n",
    "\n",
    "# Prepare our eigenstate |psi>:\n",
    "qpe3.x(5)\n",
    "\n",
    "# Do the controlled-U operations:\n",
    "angle = 2*math.pi/3\n",
    "repetitions = 1\n",
    "for counting_qubit in range(5):\n",
    "    for i in range(repetitions):\n",
    "        qpe3.cp(angle, counting_qubit, 5);\n",
    "    repetitions *= 2\n",
    "\n",
    "# Do the inverse QFT:\n",
    "qft_dagger(qpe3, 5)\n",
    "\n",
    "# Measure of course!\n",
    "qpe3.barrier()\n",
    "for n in range(5):\n",
    "    qpe3.measure(n,n)\n",
    "\n",
    "qpe3.draw()"
   ]
  },
  {
   "cell_type": "code",
   "execution_count": 12,
   "id": "7fa6effc",
   "metadata": {},
   "outputs": [
    {
     "data": {
      "image/png": "[encoded data removed]",
      "text/plain": [
       "<Figure size 504x360 with 1 Axes>"
      ]
     },
     "execution_count": 12,
     "metadata": {},
     "output_type": "execute_result"
    }
   ],
   "source": [
    "# Let's see the results!\n",
    "aer_sim = Aer.get_backend('aer_simulator')\n",
    "shots = 4096\n",
    "t_qpe3 = transpile(qpe3, aer_sim)\n",
    "qobj = assemble(t_qpe3, shots=shots)\n",
    "results = aer_sim.run(qobj).result()\n",
    "answer = results.get_counts()\n",
    "\n",
    "plot_histogram(answer)"
   ]
  },
  {
   "cell_type": "markdown",
   "id": "7236b085",
   "metadata": {},
   "source": [
    "The two most likely measurements are now 01011 (decimal 11) and 01010 (decimal 10). Measuring these results would tell us  \n",
    "θ\n",
    "  is:\n",
    "$\n",
    "θ\n",
    "=\n",
    "11\n",
    "2\n",
    "5\n",
    "=\n",
    "0.344\n",
    ",\n",
    " or \n",
    "θ\n",
    "=\n",
    "10\n",
    "2\n",
    "5\n",
    "=\n",
    "0.313\n",
    " $\n",
    "These two results differ from  \n",
    "1/3\n",
    "  by 3% and 6% respectively. A much better precision!"
   ]
  },
  {
   "cell_type": "markdown",
   "id": "3d74c111",
   "metadata": {},
   "source": [
    "## Experiment with Real Devices\n"
   ]
  },
  {
   "cell_type": "code",
   "execution_count": 13,
   "id": "50108c35",
   "metadata": {},
   "outputs": [
    {
     "data": {
      "text/html": [
       "<pre style=\"word-wrap: normal;white-space: pre;background: #fff0;line-height: 1.1;font-family: &quot;Courier New&quot;,Courier,monospace\">     ┌───┐                                                                ░    »\n",
       "q_0: ┤ H ├─■──────────────────────────────────────────────────────────────░──X─»\n",
       "     ├───┤ │                                                              ░  │ »\n",
       "q_1: ┤ H ├─┼────────■────────■────────────────────────────────────────────░──┼─»\n",
       "     ├───┤ │        │        │                                            ░  │ »\n",
       "q_2: ┤ H ├─┼────────┼────────┼────────■────────■────────■────────■────────░──X─»\n",
       "     ├───┤ │P(π/4)  │P(π/4)  │P(π/4)  │P(π/4)  │P(π/4)  │P(π/4)  │P(π/4)  ░    »\n",
       "q_3: ┤ X ├─■────────■────────■────────■────────■────────■────────■────────░────»\n",
       "     └───┘                                                                ░    »\n",
       "c: 3/══════════════════════════════════════════════════════════════════════════»\n",
       "                                                                               »\n",
       "«     ┌───┐                                         ░ ┌─┐      \n",
       "«q_0: ┤ H ├─■──────────────■────────────────────────░─┤M├──────\n",
       "«     └───┘ │P(-π/2) ┌───┐ │                        ░ └╥┘┌─┐   \n",
       "«q_1: ──────■────────┤ H ├─┼─────────■──────────────░──╫─┤M├───\n",
       "«                    └───┘ │P(-π/4)  │P(-π/2) ┌───┐ ░  ║ └╥┘┌─┐\n",
       "«q_2: ─────────────────────■─────────■────────┤ H ├─░──╫──╫─┤M├\n",
       "«                                             └───┘ ░  ║  ║ └╥┘\n",
       "«q_3: ──────────────────────────────────────────────░──╫──╫──╫─\n",
       "«                                                   ░  ║  ║  ║ \n",
       "«c: 3/═════════════════════════════════════════════════╩══╩══╩═\n",
       "«                                                      0  1  2 </pre>"
      ],
      "text/plain": [
       "     ┌───┐                                                                ░    »\n",
       "q_0: ┤ H ├─■──────────────────────────────────────────────────────────────░──X─»\n",
       "     ├───┤ │                                                              ░  │ »\n",
       "q_1: ┤ H ├─┼────────■────────■────────────────────────────────────────────░──┼─»\n",
       "     ├───┤ │        │        │                                            ░  │ »\n",
       "q_2: ┤ H ├─┼────────┼────────┼────────■────────■────────■────────■────────░──X─»\n",
       "     ├───┤ │P(π/4)  │P(π/4)  │P(π/4)  │P(π/4)  │P(π/4)  │P(π/4)  │P(π/4)  ░    »\n",
       "q_3: ┤ X ├─■────────■────────■────────■────────■────────■────────■────────░────»\n",
       "     └───┘                                                                ░    »\n",
       "c: 3/══════════════════════════════════════════════════════════════════════════»\n",
       "                                                                               »\n",
       "«     ┌───┐                                         ░ ┌─┐      \n",
       "«q_0: ┤ H ├─■──────────────■────────────────────────░─┤M├──────\n",
       "«     └───┘ │P(-π/2) ┌───┐ │                        ░ └╥┘┌─┐   \n",
       "«q_1: ──────■────────┤ H ├─┼─────────■──────────────░──╫─┤M├───\n",
       "«                    └───┘ │P(-π/4)  │P(-π/2) ┌───┐ ░  ║ └╥┘┌─┐\n",
       "«q_2: ─────────────────────■─────────■────────┤ H ├─░──╫──╫─┤M├\n",
       "«                                             └───┘ ░  ║  ║ └╥┘\n",
       "«q_3: ──────────────────────────────────────────────░──╫──╫──╫─\n",
       "«                                                   ░  ║  ║  ║ \n",
       "«c: 3/═════════════════════════════════════════════════╩══╩══╩═\n",
       "«                                                      0  1  2 "
      ]
     },
     "execution_count": 13,
     "metadata": {},
     "output_type": "execute_result"
    }
   ],
   "source": [
    "qpe.draw()"
   ]
  },
  {
   "cell_type": "code",
   "execution_count": 14,
   "id": "3c65bf3d",
   "metadata": {},
   "outputs": [
    {
     "name": "stdout",
     "output_type": "stream",
     "text": [
      "Job Status: job has successfully run\n"
     ]
    }
   ],
   "source": [
    "IBMQ.load_account()\n",
    "from qiskit.tools.monitor import job_monitor\n",
    "provider = IBMQ.get_provider(hub='ibm-q')\n",
    "santiago = provider.get_backend('ibmq_santiago')\n",
    "\n",
    "# Run with 2048 shots\n",
    "shots = 2048\n",
    "t_qpe = transpile(qpe, santiago, optimization_level=3)\n",
    "job = santiago.run(t_qpe, shots=shots)\n",
    "job_monitor(job)"
   ]
  },
  {
   "cell_type": "code",
   "execution_count": 15,
   "id": "836c96c8",
   "metadata": {},
   "outputs": [
    {
     "data": {
      "image/png": "[encoded data removed]",
      "text/plain": [
       "<Figure size 504x360 with 1 Axes>"
      ]
     },
     "execution_count": 15,
     "metadata": {},
     "output_type": "execute_result"
    }
   ],
   "source": [
    "# get the results from the computation\n",
    "results = job.result()\n",
    "answer = results.get_counts(qpe)\n",
    "\n",
    "plot_histogram(answer)"
   ]
  },
  {
   "cell_type": "markdown",
   "id": "1d0d6c0d",
   "metadata": {},
   "source": [
    "We can hopefully see that the most likely result is 001 which is the result we would expect from the simulator. Unlike the simulator, there is a probability of measuring something other than 001, this is due to noise and gate errors in the quantum computer."
   ]
  }
 ],
 "metadata": {
  "kernelspec": {
   "display_name": "quantum",
   "language": "python",
   "name": "quantum"
  },
  "language_info": {
   "codemirror_mode": {
    "name": "ipython",
    "version": 3
   },
   "file_extension": ".py",
   "mimetype": "text/x-python",
   "name": "python",
   "nbconvert_exporter": "python",
   "pygments_lexer": "ipython3",
   "version": "3.8.5"
  }
 },
 "nbformat": 4,
 "nbformat_minor": 5
}
