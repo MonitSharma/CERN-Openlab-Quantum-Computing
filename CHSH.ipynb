{
 "cells": [
  {
   "cell_type": "code",
   "execution_count": 11,
   "id": "15b4bd8e",
   "metadata": {},
   "outputs": [],
   "source": [
    "%matplotlib inline\n",
    "\n",
    "from qiskit import *\n",
    "from qiskit.tools.monitor import * \n",
    "from qiskit.providers.ibmq import least_busy\n",
    "import numpy as np\n"
   ]
  },
  {
   "cell_type": "code",
   "execution_count": 12,
   "id": "657c9cac",
   "metadata": {},
   "outputs": [],
   "source": [
    "# the CHSH game\n",
    "\n",
    "def CHSH_circuit(x,y,a0=0, a1=np.pi/2, b0=np.pi/4, b1= -np.pi/4):\n",
    "    \n",
    "    # x is the bit received by Alice\n",
    "    # y is the bit received by Bob\n",
    "    # a0 is the angles used by Alice if she gets 0\n",
    "    # a1 is the angle used by Alice is she gets 1\n",
    "    # b0 is the angle used by Bob if he gets 0\n",
    "    # b1 is the angle used by Bob if he gets 1\n",
    "    \n",
    "    \n",
    "    \n",
    "    \n",
    "    circ= QuantumCircuit(2,2)\n",
    "    \n",
    "    # make a bell pair\n",
    "    circ.h(0)\n",
    "    circ.cx(0,1)\n",
    "    \n",
    "    if(x==0):\n",
    "        circ.ry(a0,0)\n",
    "    else:\n",
    "        circ.ry(a1,0)\n",
    "        \n",
    "    if(y==0):\n",
    "        circ.ry(b0,1)\n",
    "    else:\n",
    "        circ.ry(b1,1)\n",
    "        \n",
    "        \n",
    "        # measurement\n",
    "    circ.measure(range(2), range(2))\n",
    "    \n",
    "    return circ"
   ]
  },
  {
   "cell_type": "code",
   "execution_count": 17,
   "id": "a9352e68",
   "metadata": {},
   "outputs": [],
   "source": [
    "def winning_probability(backend,shots = 8192, a0=0, a1=np.pi/2, b0=np.pi/4, b1= -np.pi/4):\n",
    "    total = 0\n",
    "    circuits = [CHSH_circuit(0,0,a0,a1,b0,b1), CHSH_circuit(0,1,a0,a1,b0,b1),CHSH_circuit(1,0,a0,a1,b0,b1),CHSH_circuit(1,1,a0,a1,b0,b1)]\n",
    "    job = execute(circuits,backend=backend, shots = shots)\n",
    "    \n",
    "    # for the first three circuits, the winning condition is when both the outputs are equal\n",
    "    \n",
    "    for qc in circuits[0:3]:\n",
    "        counts = job.result().get_counts(qc)\n",
    "        if ('00' in counts):\n",
    "            total += counts['00']\n",
    "        if ('11' in counts):\n",
    "            total += counts['11']\n",
    "        # for the fourth \n",
    "        counts = job.result().get_counts(circuits[3])\n",
    "        if('01' in counts):\n",
    "            total += counts['01']\n",
    "        if('10' in counts):\n",
    "            total += counts['10']\n",
    "            \n",
    "        return total/(2*shots)"
   ]
  },
  {
   "cell_type": "code",
   "execution_count": 18,
   "id": "09b6618b",
   "metadata": {},
   "outputs": [
    {
     "name": "stdout",
     "output_type": "stream",
     "text": [
      "0.85137939453125\n"
     ]
    }
   ],
   "source": [
    "backend = Aer.get_backend('qasm_simulator')\n",
    "\n",
    "print(winning_probability(backend))"
   ]
  },
  {
   "cell_type": "code",
   "execution_count": 19,
   "id": "7a6de23c",
   "metadata": {},
   "outputs": [
    {
     "name": "stdout",
     "output_type": "stream",
     "text": [
      "we are executing on ... ibmq_lima\n",
      "0.8218994140625\n"
     ]
    }
   ],
   "source": [
    "# run on a quantum computer\n",
    "\n",
    "provider = IBMQ.load_account()\n",
    "\n",
    "backend = least_busy(provider.backends(operational = True, simulator = False, status_msg='active',\n",
    "                                      filters=lambda x: x.configuration().n_qubits >1))\n",
    "print(\"we are executing on ...\", backend)\n",
    "\n",
    "print(winning_probability(backend))"
   ]
  }
 ],
 "metadata": {
  "kernelspec": {
   "display_name": "quantum",
   "language": "python",
   "name": "quantum"
  },
  "language_info": {
   "codemirror_mode": {
    "name": "ipython",
    "version": 3
   },
   "file_extension": ".py",
   "mimetype": "text/x-python",
   "name": "python",
   "nbconvert_exporter": "python",
   "pygments_lexer": "ipython3",
   "version": "3.8.5"
  }
 },
 "nbformat": 4,
 "nbformat_minor": 5
}
